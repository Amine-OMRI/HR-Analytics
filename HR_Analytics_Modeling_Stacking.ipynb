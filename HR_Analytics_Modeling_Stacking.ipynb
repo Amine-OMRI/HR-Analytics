{
  "nbformat": 4,
  "nbformat_minor": 0,
  "metadata": {
    "colab": {
      "name": "HR_Analytics_Modeling_Stacking.ipynb",
      "provenance": [],
      "toc_visible": true,
      "authorship_tag": "ABX9TyMz4QoRP6UXB5AiCAIOWgk2",
      "include_colab_link": true
    },
    "kernelspec": {
      "name": "python3",
      "display_name": "Python 3"
    },
    "language_info": {
      "name": "python"
    }
  },
  "cells": [
    {
      "cell_type": "markdown",
      "metadata": {
        "id": "view-in-github",
        "colab_type": "text"
      },
      "source": [
        "<a href=\"https://colab.research.google.com/github/Amine-OMRI/HR-Analytics/blob/data_preprocessing/HR_Analytics_Modeling_Stacking.ipynb\" target=\"_parent\"><img src=\"https://colab.research.google.com/assets/colab-badge.svg\" alt=\"Open In Colab\"/></a>"
      ]
    },
    {
      "cell_type": "code",
      "metadata": {
        "id": "9sAZ8NL3utOF"
      },
      "source": [
        "import numpy as np\n",
        "import pandas as pd\n",
        "import matplotlib.pylab as plt\n",
        "import seaborn as sns\n",
        "\n",
        "from sklearn.model_selection import train_test_split\n",
        "import matplotlib.pyplot as plaug_train = pd.read_csv('/content/HR-Analytics/Preprocessed_data/preprocessed_OHE_city_MissVal_replaced_Gender_company_Type_Size_train.csv')\n",
        "print(\"Detailed candidates train data row, cols: \", aug_train.shape)\n",
        "\n",
        "aug_test = pd.read_csv('/content/HR-Analytics/Preprocessed_data/preprocessed_OHE_city_MissVal_replaced_Gender_company_Type_Size_test.csv')\n",
        "print(\"Detailed candidates test data row, cols: \", aug_test.shape)t \n",
        "from sklearn.metrics import classification_report, confusion_matrix\n",
        "from sklearn.metrics import accuracy_score\n",
        "import xgboost as xgb\n",
        "from sklearn.metrics import f1_score\n",
        "from tqdm import tqdm\n",
        "\n",
        "pd.set_option('display.max_rows', 500)"
      ],
      "execution_count": 4,
      "outputs": []
    },
    {
      "cell_type": "code",
      "metadata": {
        "id": "ouA2QIlXvXqL"
      },
      "source": [
        "%matplotlib inline\n",
        "sns.set()\n",
        "\n",
        "plt.rcParams['axes.labelsize'] = 14\n",
        "plt.rcParams['xtick.labelsize'] = 12\n",
        "plt.rcParams['ytick.labelsize'] = 12\n",
        "plt.rcParams['text.color'] = 'k'\n",
        "plt.rcParams['figure.figsize'] = 15, 5"
      ],
      "execution_count": 5,
      "outputs": []
    },
    {
      "cell_type": "markdown",
      "metadata": {
        "id": "4Bsnk2Pxve5c"
      },
      "source": [
        "# Loading the data"
      ]
    },
    {
      "cell_type": "code",
      "metadata": {
        "colab": {
          "base_uri": "https://localhost:8080/"
        },
        "id": "Ik1KLQrhvi3F",
        "outputId": "69321c21-cb69-41af-b600-c5e660f76a46"
      },
      "source": [
        "!git clone -b data_preprocessing https://github.com/Amine-OMRI/HR-Analytics.git"
      ],
      "execution_count": 1,
      "outputs": [
        {
          "output_type": "stream",
          "text": [
            "Cloning into 'HR-Analytics'...\n",
            "remote: Enumerating objects: 265, done.\u001b[K\n",
            "remote: Counting objects: 100% (265/265), done.\u001b[K\n",
            "remote: Compressing objects: 100% (250/250), done.\u001b[K\n",
            "remote: Total 265 (delta 163), reused 27 (delta 11), pack-reused 0\u001b[K\n",
            "Receiving objects: 100% (265/265), 4.91 MiB | 4.65 MiB/s, done.\n",
            "Resolving deltas: 100% (163/163), done.\n"
          ],
          "name": "stdout"
        }
      ]
    },
    {
      "cell_type": "code",
      "metadata": {
        "colab": {
          "base_uri": "https://localhost:8080/"
        },
        "id": "MgmoCWWTvmJo",
        "outputId": "455915b5-3073-4c9a-94bd-68f847242a87"
      },
      "source": [
        "!ls HR-Analytics/Preprocessed_data"
      ],
      "execution_count": 2,
      "outputs": [
        {
          "output_type": "stream",
          "text": [
            "preprocessed_BINE_city_COMBINED_ORDE_experience_aug_test.csv\n",
            "preprocessed_BINE_city_COMBINED_ORDE_experience_aug_train.csv\n",
            "preprocessed_BINE_city_ORDE_experience_aug_test.csv\n",
            "preprocessed_BINE_city_ORDE_experience_aug_train.csv\n",
            "preprocessed_HACHE_city_COMBINED_ORDE_experience_aug_test.csv\n",
            "preprocessed_HACHE_city_COMBINED_ORDE_experience_aug_train.csv\n",
            "preprocessed_HACHE_city_ORDE_experience_aug_test.csv\n",
            "preprocessed_HACHE_city_ORDE_experience_aug_train.csv\n",
            "preprocessed_OHE_city_COMBINED_ORDE_experience_aug_test.csv\n",
            "preprocessed_OHE_city_COMBINED_ORDE_experience_aug_train.csv\n",
            "preprocessed_OHE_city_MissVal_replaced_Gender_company_Type_Size_test.csv\n",
            "preprocessed_OHE_city_MissVal_replaced_Gender_company_Type_Size_train.csv\n",
            "preprocessed_OHE_city_ORDE_experience_aug_test.csv\n",
            "preprocessed_OHE_city_ORDE_experience_aug_train.csv\n",
            "preprocessed_OHE_Combined_city_Experience_MISSING_MissVal_replaced_Gender_company_Type_Size_test.csv\n",
            "preprocessed_OHE_Combined_city__Experience_MISSING_MissVal_replaced_Gender_company_Type_Size_train.csv\n",
            "preprocessed_OHE_Combined_city_Experience_Mod_MissVal_replaced_Gender_company_Type_Size_test.csv\n",
            "preprocessed_OHE_Combined_city__Experience_Mod_MissVal_replaced_Gender_company_Type_Size_train.csv\n",
            "preprocessed_OHE_Combined_city_Ordinal_Experience_MISSING_MissVal_replaced_Gender_company_Type_Size_test.csv\n",
            "preprocessed_OHE_Combined_city__Ordinal_Experience_MISSING_MissVal_replaced_Gender_company_Type_Size_train.csv\n"
          ],
          "name": "stdout"
        }
      ]
    },
    {
      "cell_type": "code",
      "metadata": {
        "colab": {
          "base_uri": "https://localhost:8080/"
        },
        "id": "i5PH88SZb33e",
        "outputId": "b471626e-77bc-4cbb-e62a-9e2505d77172"
      },
      "source": [
        "aug_train = pd.read_csv('/content/HR-Analytics/Preprocessed_data/preprocessed_OHE_city_MissVal_replaced_Gender_company_Type_Size_train.csv')\n",
        "print(\"Detailed candidates train data row, cols: \", aug_train.shape)"
      ],
      "execution_count": 6,
      "outputs": [
        {
          "output_type": "stream",
          "text": [
            "Detailed candidates train data row, cols:  (19158, 136)\n"
          ],
          "name": "stdout"
        }
      ]
    },
    {
      "cell_type": "code",
      "metadata": {
        "id": "IG1HzQbiIBxA",
        "colab": {
          "base_uri": "https://localhost:8080/"
        },
        "outputId": "b72a52b4-576f-4f7f-db22-8b9927defecf"
      },
      "source": [
        "aug_test = pd.read_csv('/content/HR-Analytics/Preprocessed_data/preprocessed_OHE_city_MissVal_replaced_Gender_company_Type_Size_test.csv')\n",
        "print(\"Detailed candidates test data row, cols: \", aug_test.shape)"
      ],
      "execution_count": 7,
      "outputs": [
        {
          "output_type": "stream",
          "text": [
            "Detailed candidates test data row, cols:  (2129, 135)\n"
          ],
          "name": "stdout"
        }
      ]
    },
    {
      "cell_type": "code",
      "metadata": {
        "colab": {
          "base_uri": "https://localhost:8080/"
        },
        "id": "OlRnhLF3aR3U",
        "outputId": "8ea1421b-ed6e-47a0-fb5f-94e0bf4e6071"
      },
      "source": [
        "aug_train.columns"
      ],
      "execution_count": 20,
      "outputs": [
        {
          "output_type": "execute_result",
          "data": {
            "text/plain": [
              "Index(['gender', 'relevent_experience', 'enrolled_university',\n",
              "       'education_level', 'major_discipline', 'experience', 'company_size',\n",
              "       'company_type', 'last_new_job', 'code_city_1',\n",
              "       ...\n",
              "       'code_city_90', 'code_city_91', 'code_city_93', 'code_city_94',\n",
              "       'code_city_97', 'code_city_98', 'code_city_99',\n",
              "       'city_development_index', 'training_hours', 'target'],\n",
              "      dtype='object', length=135)"
            ]
          },
          "metadata": {
            "tags": []
          },
          "execution_count": 20
        }
      ]
    },
    {
      "cell_type": "code",
      "metadata": {
        "colab": {
          "base_uri": "https://localhost:8080/"
        },
        "id": "RZGUw6TlHnhB",
        "outputId": "ca9be84c-6549-4240-ffa3-50fba2f8ef24"
      },
      "source": [
        "# The dataset is imbalance\n",
        "aug_train.target.value_counts()"
      ],
      "execution_count": 9,
      "outputs": [
        {
          "output_type": "execute_result",
          "data": {
            "text/plain": [
              "0.0    14381\n",
              "1.0     4777\n",
              "Name: target, dtype: int64"
            ]
          },
          "metadata": {
            "tags": []
          },
          "execution_count": 9
        }
      ]
    },
    {
      "cell_type": "code",
      "metadata": {
        "id": "kexD675OSDtu"
      },
      "source": [
        "aug_test.drop(['Unnamed: 0'], axis=1, inplace= True)\n",
        "aug_train.drop(['Unnamed: 0'], axis=1, inplace= True)"
      ],
      "execution_count": 10,
      "outputs": []
    },
    {
      "cell_type": "markdown",
      "metadata": {
        "id": "MrHlVKK53-GH"
      },
      "source": [
        "# Synthetic Minority Oversampling Technique\n",
        "---\n",
        "One approach to addressing imbalanced datasets is to oversample the minority class. The simplest approach involves duplicating examples in the minority class, although these examples don’t add any new information to the model. Instead, new examples can be synthesized from the existing examples. This is a type of data augmentation for the minority class and is referred to as the Synthetic Minority Oversampling Technique, or **SMOTE** for short.\n",
        "\n",
        "* **SMOTE** works by selecting examples that are close in the feature space, drawing a line between the examples in the feature space and drawing a new sample at a point along that line.\n",
        "\n",
        "* Specifically, a random example from the minority class is first chosen. Then k of the nearest neighbors for that example are found (typically k=5). A randomly selected neighbor is chosen and a synthetic example is created at a randomly selected point between the two examples in feature space.\n",
        "\n",
        "*… SMOTE first selects a minority class instance a at random and finds its k nearest minority class neighbors. The synthetic instance is then created by choosing one of the k nearest neighbors b at random and connecting a and b to form a line segment in the feature space. The synthetic instances are generated as a convex combination of the two chosen instances a and b.*\n",
        "\n",
        "\n"
      ]
    },
    {
      "cell_type": "code",
      "metadata": {
        "colab": {
          "base_uri": "https://localhost:8080/"
        },
        "id": "BRFpiFkMD-cM",
        "outputId": "ef57bf4c-a950-4857-ceb9-5e1e6790209c"
      },
      "source": [
        "!pip install imbalanced-learn"
      ],
      "execution_count": 21,
      "outputs": [
        {
          "output_type": "stream",
          "text": [
            "Requirement already satisfied: imbalanced-learn in /usr/local/lib/python3.7/dist-packages (0.4.3)\n",
            "Requirement already satisfied: scikit-learn>=0.20 in /usr/local/lib/python3.7/dist-packages (from imbalanced-learn) (0.22.2.post1)\n",
            "Requirement already satisfied: scipy>=0.13.3 in /usr/local/lib/python3.7/dist-packages (from imbalanced-learn) (1.4.1)\n",
            "Requirement already satisfied: numpy>=1.8.2 in /usr/local/lib/python3.7/dist-packages (from imbalanced-learn) (1.19.5)\n",
            "Requirement already satisfied: joblib>=0.11 in /usr/local/lib/python3.7/dist-packages (from scikit-learn>=0.20->imbalanced-learn) (1.0.1)\n"
          ],
          "name": "stdout"
        }
      ]
    },
    {
      "cell_type": "code",
      "metadata": {
        "colab": {
          "base_uri": "https://localhost:8080/",
          "height": 324
        },
        "id": "fIB-gCr3DYfl",
        "outputId": "c94d58a5-53fb-482e-9d8f-3250c5f15077"
      },
      "source": [
        "from imblearn.over_sampling import SMOTE\n",
        "X = aug_train.drop(columns=['target']).values\n",
        "y = aug_train['target'].values\n",
        "smote = SMOTE(random_state = 402)\n",
        "X_smote, Y_smote = smote.fit_resample(X,y)\n",
        "sns.countplot(Y_smote)"
      ],
      "execution_count": 22,
      "outputs": [
        {
          "output_type": "execute_result",
          "data": {
            "text/plain": [
              "<matplotlib.axes._subplots.AxesSubplot at 0x7f6039c9a450>"
            ]
          },
          "metadata": {
            "tags": []
          },
          "execution_count": 22
        },
        {
          "output_type": "display_data",
          "data": {
            "image/png": "[encoded data removed]",
            "text/plain": [
              "<Figure size 1080x360 with 1 Axes>"
            ]
          },
          "metadata": {
            "tags": []
          }
        }
      ]
    },
    {
      "cell_type": "markdown",
      "metadata": {
        "id": "jizrzmCAwxjG"
      },
      "source": [
        "# Train/test Split"
      ]
    },
    {
      "cell_type": "code",
      "metadata": {
        "id": "gOPm4HgigSEb",
        "colab": {
          "base_uri": "https://localhost:8080/"
        },
        "outputId": "db40402f-6304-477f-bcb4-f409cb4242cb"
      },
      "source": [
        "# imbalanced data\n",
        "# X = aug_train.drop(columns=['target']).values\n",
        "# y = aug_train['target'].values\n",
        "# X_train, X_test, y_train, y_test = train_test_split(X, y, test_size=0.1, random_state=42)\n",
        "\n",
        "# SMOTE balanced Data\n",
        "X_train, X_test, y_train, y_test = train_test_split(X_smote, Y_smote, test_size=0.1, random_state=42)\n",
        "\n",
        "\n",
        "# Triying Scaling\n",
        "# from sklearn.preprocessing import StandardScaler\n",
        "# from sklearn.preprocessing import RobustScaler\n",
        "# from sklearn.preprocessing import MinMaxScaler\n",
        "# scaler = MinMaxScaler()\n",
        "# X_train = scaler.fit_transform(X_train)\n",
        "# X_test = scaler.transform(X_test)\n",
        "\n",
        "X_train, X_val, y_train, y_val = train_test_split(X_train, y_train, test_size=0.25, random_state=42) # 0.25 x 0.8 = 0.2\n",
        "\n",
        "print(\"Train set X:\",X_train.shape, \"y:\", y_train.shape)\n",
        "print(\"Val set  X:\",X_val.shape, \"y:\",y_val.shape)\n",
        "print(\"Test set X:\",X_test.shape, \"y:\", y_test.shape)"
      ],
      "execution_count": 23,
      "outputs": [
        {
          "output_type": "stream",
          "text": [
            "Train set X: (19413, 134) y: (19413,)\n",
            "Val set  X: (6472, 134) y: (6472,)\n",
            "Test set X: (2877, 134) y: (2877,)\n"
          ],
          "name": "stdout"
        }
      ]
    },
    {
      "cell_type": "markdown",
      "metadata": {
        "id": "O75fu3bHxHxJ"
      },
      "source": [
        "# Modeling"
      ]
    },
    {
      "cell_type": "code",
      "metadata": {
        "id": "sloZa9_5zA9X"
      },
      "source": [
        "import itertools\n",
        "from sklearn.datasets import make_classification\n",
        "from sklearn import model_selection\n",
        "from sklearn.model_selection import train_test_split, GridSearchCV\n",
        "from sklearn.preprocessing import StandardScaler\n",
        "from sklearn.pipeline import Pipeline\n",
        "from sklearn import metrics\n",
        "\n",
        "# Classifiers\n",
        "from sklearn.linear_model import LogisticRegression\n",
        "from sklearn.neural_network import MLPClassifier\n",
        "from sklearn.ensemble import RandomForestClassifier\n",
        "from mlxtend.classifier import StackingCVClassifier \n",
        "\n",
        "# Used to ignore warnings generated from StackingCVClassifier\n",
        "import warnings\n",
        "warnings.simplefilter('ignore')"
      ],
      "execution_count": 46,
      "outputs": []
    },
    {
      "cell_type": "code",
      "metadata": {
        "id": "2dURxI_yx4yb"
      },
      "source": [
        "# Different Models that I will be using:\n",
        "\n",
        "# Initializing Support Vector classifier\n",
        "clf1 = SVC(C = 50, degree = 1, gamma = \"auto\", kernel = \"rbf\", probability = True)\n",
        "\n",
        "# Initializing Multi-layer perceptron  classifier\n",
        "clf2 = MLPClassifier(activation = \"relu\", alpha = 0.1, hidden_layer_sizes = (10,10,10),\n",
        "                    learning_rate = \"constant\", max_iter = 2000, random_state = 1000)\n",
        "\n",
        "# Initializing Random Forest classifier\n",
        "clf3 = RandomForestClassifier(n_estimators = 500, criterion = \"gini\", max_depth = 10,\n",
        "                              max_features = \"auto\", min_samples_leaf = 0.005,\n",
        "                              min_samples_split = 0.005, n_jobs = -1,\n",
        "                              random_state = 1000)\n",
        "\n",
        "# Initialing LogisticRegression classifier\n",
        "clf4  = LogisticRegression(n_jobs=-1, solver='sag', random_state = 1000)"
      ],
      "execution_count": 47,
      "outputs": []
    },
    {
      "cell_type": "code",
      "metadata": {
        "id": "Zu22KFLGCpxi"
      },
      "source": [
        "# Initializing the StackingCV classifier\n",
        "sclf = StackingCVClassifier(classifiers = [clf1, clf2, clf3, clf4],\n",
        "                            shuffle = False,\n",
        "                            use_probas = True,\n",
        "                            cv = 5,\n",
        "                            meta_classifier = SVC(probability = True))"
      ],
      "execution_count": 48,
      "outputs": []
    },
    {
      "cell_type": "code",
      "metadata": {
        "id": "84TzIlnjC5w7"
      },
      "source": [
        "# Create list to store classifiers\n",
        "classifiers = {\"SVC\": clf1,\n",
        "               \"MLP\": clf2,\n",
        "               \"RF\": clf3,\n",
        "               \"LR\": clf4,\n",
        "               \"Stack\": sclf} #\"NuSVC\": classifier3,"
      ],
      "execution_count": 49,
      "outputs": []
    },
    {
      "cell_type": "code",
      "metadata": {
        "id": "XqOBzLxxDBvL"
      },
      "source": [
        "# Train classifiers\n",
        "for key in classifiers:\n",
        "    # Get classifier\n",
        "    classifier = classifiers[key]\n",
        "    \n",
        "    # Fit classifier\n",
        "    classifier.fit(X_train, y_train)\n",
        "        \n",
        "    # Save fitted classifier\n",
        "    classifiers[key] = classifier"
      ],
      "execution_count": 50,
      "outputs": []
    },
    {
      "cell_type": "code",
      "metadata": {
        "id": "A1tn0DBxDe9G"
      },
      "source": [
        "# Get results\n",
        "results = pd.DataFrame()\n",
        "for key in classifiers:\n",
        "    # Make prediction on test set\n",
        "    y_pred = classifiers[key].predict_proba(X_test)[:,1]\n",
        "    \n",
        "    # Save results in pandas dataframe object\n",
        "    results[f\"{key}\"] = y_pred\n",
        "\n",
        "# Add the test set to the results object\n",
        "results[\"Target\"] = y_test"
      ],
      "execution_count": 51,
      "outputs": []
    },
    {
      "cell_type": "code",
      "metadata": {
        "colab": {
          "base_uri": "https://localhost:8080/",
          "height": 407
        },
        "id": "S09KEn5LjYj1",
        "outputId": "de37ab07-7c87-4c77-aa4f-ce199f5d9bca"
      },
      "source": [
        "results"
      ],
      "execution_count": 52,
      "outputs": [
        {
          "output_type": "execute_result",
          "data": {
            "text/html": [
              "<div>\n",
              "<style scoped>\n",
              "    .dataframe tbody tr th:only-of-type {\n",
              "        vertical-align: middle;\n",
              "    }\n",
              "\n",
              "    .dataframe tbody tr th {\n",
              "        vertical-align: top;\n",
              "    }\n",
              "\n",
              "    .dataframe thead th {\n",
              "        text-align: right;\n",
              "    }\n",
              "</style>\n",
              "<table border=\"1\" class=\"dataframe\">\n",
              "  <thead>\n",
              "    <tr style=\"text-align: right;\">\n",
              "      <th></th>\n",
              "      <th>SVC</th>\n",
              "      <th>MLP</th>\n",
              "      <th>RF</th>\n",
              "      <th>LR</th>\n",
              "      <th>Stack</th>\n",
              "      <th>Target</th>\n",
              "    </tr>\n",
              "  </thead>\n",
              "  <tbody>\n",
              "    <tr>\n",
              "      <th>0</th>\n",
              "      <td>0.898820</td>\n",
              "      <td>0.487330</td>\n",
              "      <td>0.529557</td>\n",
              "      <td>0.498920</td>\n",
              "      <td>0.872400</td>\n",
              "      <td>1.0</td>\n",
              "    </tr>\n",
              "    <tr>\n",
              "      <th>1</th>\n",
              "      <td>0.063949</td>\n",
              "      <td>0.357221</td>\n",
              "      <td>0.341839</td>\n",
              "      <td>0.256370</td>\n",
              "      <td>0.116961</td>\n",
              "      <td>0.0</td>\n",
              "    </tr>\n",
              "    <tr>\n",
              "      <th>2</th>\n",
              "      <td>0.161388</td>\n",
              "      <td>0.135740</td>\n",
              "      <td>0.450269</td>\n",
              "      <td>0.408121</td>\n",
              "      <td>0.127904</td>\n",
              "      <td>0.0</td>\n",
              "    </tr>\n",
              "    <tr>\n",
              "      <th>3</th>\n",
              "      <td>0.759026</td>\n",
              "      <td>0.737906</td>\n",
              "      <td>0.529414</td>\n",
              "      <td>0.505613</td>\n",
              "      <td>0.840223</td>\n",
              "      <td>1.0</td>\n",
              "    </tr>\n",
              "    <tr>\n",
              "      <th>4</th>\n",
              "      <td>0.902724</td>\n",
              "      <td>0.852271</td>\n",
              "      <td>0.776900</td>\n",
              "      <td>0.891457</td>\n",
              "      <td>0.846138</td>\n",
              "      <td>1.0</td>\n",
              "    </tr>\n",
              "    <tr>\n",
              "      <th>...</th>\n",
              "      <td>...</td>\n",
              "      <td>...</td>\n",
              "      <td>...</td>\n",
              "      <td>...</td>\n",
              "      <td>...</td>\n",
              "      <td>...</td>\n",
              "    </tr>\n",
              "    <tr>\n",
              "      <th>2872</th>\n",
              "      <td>0.342810</td>\n",
              "      <td>0.183107</td>\n",
              "      <td>0.348732</td>\n",
              "      <td>0.509224</td>\n",
              "      <td>0.081215</td>\n",
              "      <td>0.0</td>\n",
              "    </tr>\n",
              "    <tr>\n",
              "      <th>2873</th>\n",
              "      <td>0.269352</td>\n",
              "      <td>0.187591</td>\n",
              "      <td>0.405300</td>\n",
              "      <td>0.425873</td>\n",
              "      <td>0.114425</td>\n",
              "      <td>0.0</td>\n",
              "    </tr>\n",
              "    <tr>\n",
              "      <th>2874</th>\n",
              "      <td>0.982453</td>\n",
              "      <td>0.860617</td>\n",
              "      <td>0.706388</td>\n",
              "      <td>0.860419</td>\n",
              "      <td>0.853061</td>\n",
              "      <td>1.0</td>\n",
              "    </tr>\n",
              "    <tr>\n",
              "      <th>2875</th>\n",
              "      <td>0.029337</td>\n",
              "      <td>0.235760</td>\n",
              "      <td>0.247601</td>\n",
              "      <td>0.184894</td>\n",
              "      <td>0.126232</td>\n",
              "      <td>0.0</td>\n",
              "    </tr>\n",
              "    <tr>\n",
              "      <th>2876</th>\n",
              "      <td>0.346709</td>\n",
              "      <td>0.165363</td>\n",
              "      <td>0.293718</td>\n",
              "      <td>0.414835</td>\n",
              "      <td>0.108273</td>\n",
              "      <td>0.0</td>\n",
              "    </tr>\n",
              "  </tbody>\n",
              "</table>\n",
              "<p>2877 rows × 6 columns</p>\n",
              "</div>"
            ],
            "text/plain": [
              "           SVC       MLP        RF        LR     Stack  Target\n",
              "0     0.898820  0.487330  0.529557  0.498920  0.872400     1.0\n",
              "1     0.063949  0.357221  0.341839  0.256370  0.116961     0.0\n",
              "2     0.161388  0.135740  0.450269  0.408121  0.127904     0.0\n",
              "3     0.759026  0.737906  0.529414  0.505613  0.840223     1.0\n",
              "4     0.902724  0.852271  0.776900  0.891457  0.846138     1.0\n",
              "...        ...       ...       ...       ...       ...     ...\n",
              "2872  0.342810  0.183107  0.348732  0.509224  0.081215     0.0\n",
              "2873  0.269352  0.187591  0.405300  0.425873  0.114425     0.0\n",
              "2874  0.982453  0.860617  0.706388  0.860419  0.853061     1.0\n",
              "2875  0.029337  0.235760  0.247601  0.184894  0.126232     0.0\n",
              "2876  0.346709  0.165363  0.293718  0.414835  0.108273     0.0\n",
              "\n",
              "[2877 rows x 6 columns]"
            ]
          },
          "metadata": {
            "tags": []
          },
          "execution_count": 52
        }
      ]
    },
    {
      "cell_type": "code",
      "metadata": {
        "colab": {
          "base_uri": "https://localhost:8080/"
        },
        "id": "SwnzDqrdouA_",
        "outputId": "4c83a097-f658-46f7-b006-8a7426f69f82"
      },
      "source": [
        "from sklearn.metrics import accuracy_score, classification_report, confusion_matrix, roc_curve, auc\n",
        "\n",
        "for key, counter in zip(classifiers, range(5)):\n",
        "    # Get predictions\n",
        "    y_pred = results[key]\n",
        "    predictions = [round(value) for value in y_pred]\n",
        "\n",
        "    print(\"---\",key,\"----------------------------\")\n",
        "    # Calculate Accuracy on test set\n",
        "    accuracy = accuracy_score(y_test, predictions)\n",
        "    print(\"Accuracy: %.2f%%\" % (accuracy * 100.0))\n",
        "\n",
        "    # Calculate the F1 score on test set\n",
        "    f1 = f1_score(y_test, predictions)\n",
        "    print('F1 score: %f' % f1)\n",
        "\n",
        "    # Calculate the AUC score on test set\n",
        "    fpr, tpr, thresholds = roc_curve(y_test, predictions)\n",
        "    print('AUC score: %f' % auc(fpr, tpr))"
      ],
      "execution_count": 53,
      "outputs": [
        {
          "output_type": "stream",
          "text": [
            "--- SVC ----------------------------\n",
            "Accuracy: 82.24%\n",
            "F1 score: 0.825894\n",
            "AUC score: 0.822406\n",
            "--- MLP ----------------------------\n",
            "Accuracy: 80.85%\n",
            "F1 score: 0.810848\n",
            "AUC score: 0.808495\n",
            "--- RF ----------------------------\n",
            "Accuracy: 82.34%\n",
            "F1 score: 0.827093\n",
            "AUC score: 0.823450\n",
            "--- LR ----------------------------\n",
            "Accuracy: 75.46%\n",
            "F1 score: 0.749823\n",
            "AUC score: 0.754586\n",
            "--- Stack ----------------------------\n",
            "Accuracy: 85.71%\n",
            "F1 score: 0.858811\n",
            "AUC score: 0.857156\n"
          ],
          "name": "stdout"
        }
      ]
    },
    {
      "cell_type": "code",
      "metadata": {
        "colab": {
          "base_uri": "https://localhost:8080/",
          "height": 508
        },
        "id": "Gv_5ft9LoxBH",
        "outputId": "8b017924-426a-40b2-9ff6-1f92b78cf35a"
      },
      "source": [
        "# Check the stacking Confusion Matrix\n",
        "y_pred = results[\"Stack\"]\n",
        "predictions = [round(value) for value in y_pred]\n",
        "## Test set confusion_matrix\n",
        "cm = confusion_matrix(y_test, predictions)\n",
        "sns.heatmap(cm, annot=True, fmt=\"d\")\n",
        "# place labels at the top\n",
        "plt.gca().xaxis.tick_top()\n",
        "plt.gca().xaxis.set_label_position('top')\n",
        "plt.ylabel('True label',size=14)\n",
        "plt.xlabel('Predicted label',size=14)\n",
        "print(classification_report(y_test, predictions))"
      ],
      "execution_count": 54,
      "outputs": [
        {
          "output_type": "stream",
          "text": [
            "              precision    recall  f1-score   support\n",
            "\n",
            "         0.0       0.87      0.84      0.86      1440\n",
            "         1.0       0.85      0.87      0.86      1437\n",
            "\n",
            "    accuracy                           0.86      2877\n",
            "   macro avg       0.86      0.86      0.86      2877\n",
            "weighted avg       0.86      0.86      0.86      2877\n",
            "\n"
          ],
          "name": "stdout"
        },
        {
          "output_type": "display_data",
          "data": {
            "image/png": "[encoded data removed]",
            "text/plain": [
              "<Figure size 1080x360 with 2 Axes>"
            ]
          },
          "metadata": {
            "tags": []
          }
        }
      ]
    }
  ]
}